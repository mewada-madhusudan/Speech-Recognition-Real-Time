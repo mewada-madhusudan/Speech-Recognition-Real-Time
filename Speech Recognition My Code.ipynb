{
 "cells": [
  {
   "cell_type": "markdown",
   "metadata": {},
   "source": [
    "### Convert Audio to TEXT"
   ]
  },
  {
   "cell_type": "markdown",
   "metadata": {},
   "source": [
    "Using Speech Recognition  "
   ]
  },
  {
   "cell_type": "code",
   "execution_count": null,
   "metadata": {},
   "outputs": [],
   "source": [
    "import speech_recognition as sr\n",
    "r = sr.Recognizer()\n",
    "\n",
    "with sr.AudioFile('jackhammer.wav') as source:\n",
    "    \n",
    "    audio_text = r.listen(source)\n",
    "    try:\n",
    "        text = r.recognize_google(audio_text)\n",
    "        print('Converting audio transcripts into text ...and Text will be')\n",
    "        print(text)     \n",
    "    except:\n",
    "         print('Sorry.. run again...')"
   ]
  },
  {
   "cell_type": "markdown",
   "metadata": {},
   "source": [
    "### Convert Text TO AUDIO"
   ]
  },
  {
   "cell_type": "markdown",
   "metadata": {},
   "source": [
    "Using Google text to speech Module"
   ]
  },
  {
   "cell_type": "code",
   "execution_count": null,
   "metadata": {},
   "outputs": [],
   "source": [
    "from gtts import gTTS \n",
    "import os \n",
    "mytext = 'I have a friend who is afraid of spiders. This isnt very unusual; a lot of people are afraid of spiders. I dont really like spiders much myself. '\n",
    "language = 'en'\n",
    "myobj = gTTS(text=mytext, lang=language, slow=False) \n",
    "myobj.save(\"welcome.wav\") \n",
    "os.system(\"mpg321 welcome.wav\") "
   ]
  },
  {
   "cell_type": "markdown",
   "metadata": {},
   "source": [
    "### CONVERT TEXT TO AUDIO GUI"
   ]
  },
  {
   "cell_type": "markdown",
   "metadata": {},
   "source": [
    "Using Google text to speech Module"
   ]
  },
  {
   "cell_type": "code",
   "execution_count": null,
   "metadata": {},
   "outputs": [],
   "source": [
    "from gtts import gTTS\n",
    "import os\n",
    "import tkinter as tk\n",
    " \n",
    "root = tk.Tk()\n",
    "root.geometry(\"1000x600+200+600\")\n",
    " \n",
    "# THE ACTION LINKED TO THE EVENT LISTENER\n",
    "def gorun():\n",
    "    s = gTTS(t.get(), lang=lan.get())\n",
    "    s.save(f\"{mp3.get()}.mp3\")\n",
    "    filename = mp3.get() + \".mp3\"\n",
    "    os.system(\"start \" + filename)\n",
    " \n",
    "# THE FIRST LABEL TELLS YOU WHAT TO DO TO MAKE IT WORK\n",
    "title = tk.Label(root, text=\"PRESS ENTER TO HEAR THE TEXT\")\n",
    "title.pack()\n",
    "title['bg'] = 'white'\n",
    "t = tk.StringVar()\n",
    "\n",
    " \n",
    "# WHERE YOU WRITE THE TEXT\n",
    "text = tk.Entry(root, textvariable=t, width=100)\n",
    "text.pack()\n",
    "t.set(\"Example of text\")\n",
    " \n",
    "# THE LANGUAGE\n",
    "    # THE LABEL\n",
    "l2 = tk.Label(root, text=\"Choose language (default is english=en)\")\n",
    "l2.pack()\n",
    "    # THE ENTRY WIDGET\n",
    "lan = tk.StringVar()\n",
    "language = tk.Entry(root, textvariable=lan)\n",
    "language.pack()\n",
    "lan.set(\"en\")\n",
    " \n",
    "# THE NAME OF THE FILE\n",
    "mp3 = tk.StringVar()\n",
    "mp3title = tk.Entry(root, textvariable=mp3, width=50)\n",
    "mp3title.pack()\n",
    "mp3.set(\"myfile\")\n",
    " \n",
    "# THE EVENT LISTENER\n",
    "root.bind(\"<Return>\", lambda x: gorun())\n",
    " \n",
    "root.mainloop()"
   ]
  },
  {
   "cell_type": "code",
   "execution_count": null,
   "metadata": {},
   "outputs": [],
   "source": []
  },
  {
   "cell_type": "code",
   "execution_count": null,
   "metadata": {},
   "outputs": [],
   "source": []
  },
  {
   "cell_type": "code",
   "execution_count": null,
   "metadata": {},
   "outputs": [],
   "source": []
  }
 ],
 "metadata": {
  "kernelspec": {
   "display_name": "Python 3",
   "language": "python",
   "name": "python3"
  },
  "language_info": {
   "codemirror_mode": {
    "name": "ipython",
    "version": 3
   },
   "file_extension": ".py",
   "mimetype": "text/x-python",
   "name": "python",
   "nbconvert_exporter": "python",
   "pygments_lexer": "ipython3",
   "version": "3.7.4"
  }
 },
 "nbformat": 4,
 "nbformat_minor": 2
}
